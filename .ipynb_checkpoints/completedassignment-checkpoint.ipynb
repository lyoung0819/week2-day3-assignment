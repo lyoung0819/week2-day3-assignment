{
 "cells": [
  {
   "cell_type": "markdown",
   "metadata": {},
   "source": [
    "### Exercise 1"
   ]
  },
  {
   "cell_type": "markdown",
   "metadata": {},
   "source": [
    "Given an array of positive integers `nums`, return a list of all of the negative integers.<br>\n",
    "Ex. 1<br>\n",
    "nums = [1, 3, 5, 7, 8]<br>\n",
    "Expected Output: [-1, -3, -5, -7, -8]<br>\n",
    "\n",
    "Ex. 2<br>\n",
    "nums = [100, 534, 32, 15, 77, 222, 788, 345, 75645, 22]<br>\n",
    "Expected Output: [-100, -534, -32, -15, -77, -222, -788, -345, -75645, -22]<br>"
   ]
  },
  {
   "cell_type": "code",
   "execution_count": 31,
   "metadata": {},
   "outputs": [
    {
     "data": {
      "text/plain": [
       "[-1, -3, -5, -7, -8]"
      ]
     },
     "execution_count": 31,
     "metadata": {},
     "output_type": "execute_result"
    }
   ],
   "source": [
    "def solution(*nums): #defining f(x) to take in multiple args\n",
    "    inverse = [] # making new list for output\n",
    "    for num in nums:  # for every number in the list of numbers inputted\n",
    "        num = -abs(num) # that num = the negative of that num\n",
    "        inverse.append(num) # once negative, add to the new list (titled inverse)\n",
    "    return inverse        # return f(x)\n",
    "\n",
    "solution(1, 3, 5, 7, 8)"
   ]
  },
  {
   "cell_type": "markdown",
   "metadata": {},
   "source": [
    "### Exercise 2"
   ]
  },
  {
   "cell_type": "markdown",
   "metadata": {},
   "source": [
    "Given a string, return a list of all of the digits in the string.<br>\n",
    "Ex. 1 <br>\n",
    "address = \"123 Real Street, Apt. 2, Springfield, OR 43498\"<br>\n",
    "Expected Output: ['1', '2', '3', '2', '4', '3', '4', '9', '8']<br>\n",
    "\n",
    "Ex. 2 <br>\n",
    "sentence = \"My phone number is (555) 555-4321\"<br>\n",
    "Expected Output: ['5', '5', '5', '5', '5', '5', '4', '3', '2', '1']<br>"
   ]
  },
  {
   "cell_type": "code",
   "execution_count": 48,
   "metadata": {},
   "outputs": [],
   "source": [
    "# Hint: Look at the string methods! -- help(str)\n",
    "\n",
    "# given a string, return the list of the digits in the string\n",
    "# input = string, output = any digit within the string\n",
    "# for ex, if we put in an address '123 real street', we will get the return of 123 \n",
    "# define f(x) takes in an arg (in this case, an address)\n",
    "# iterate through arguments, and look for integers/digits \n",
    "# if digit is found, (isdigit?) add to new list \n",
    "# return new list \n",
    "\n",
    "def solution(address):\n",
    "    digits_only = []\n",
    "    for char in address:\n",
    "        if char.isdigit() == True: #isdigit() returns boolean, so char must be true \n",
    "            digits_only.append(char)\n",
    "    return digits_only"
   ]
  },
  {
   "cell_type": "code",
   "execution_count": 49,
   "metadata": {},
   "outputs": [
    {
     "data": {
      "text/plain": [
       "['1', '2', '3']"
      ]
     },
     "execution_count": 49,
     "metadata": {},
     "output_type": "execute_result"
    }
   ],
   "source": [
    "solution('123 Real Street')"
   ]
  },
  {
   "cell_type": "markdown",
   "metadata": {},
   "source": [
    "### Exercise 3"
   ]
  },
  {
   "cell_type": "markdown",
   "metadata": {},
   "source": [
    "Given a string `digits`, return a **string** of the digits + 1<br>\n",
    "\n",
    "Ex. 1<br>\n",
    "digits = '123'<br>\n",
    "Expected Output: '124'<br>\n",
    "\n",
    "Ex. 2<br>\n",
    "digits = '99'<br>\n",
    "Expected Output: '100'<br>"
   ]
  },
  {
   "cell_type": "code",
   "execution_count": 69,
   "metadata": {},
   "outputs": [
    {
     "name": "stdout",
     "output_type": "stream",
     "text": [
      "42\n"
     ]
    }
   ],
   "source": [
    "string = \"42\"\n",
    "if string.isdigit():\n",
    "    integer = int(string)\n",
    "    print(integer)  # Output: 42\n",
    "else:\n",
    "    print(f\"{string} is not a valid integer.\")"
   ]
  },
  {
   "cell_type": "code",
   "execution_count": null,
   "metadata": {},
   "outputs": [],
   "source": [
    "string = '42'\n",
    "answer = []\n",
    "if string.isdigit"
   ]
  },
  {
   "cell_type": "code",
   "execution_count": 79,
   "metadata": {},
   "outputs": [],
   "source": [
    "# given a string of digits, return a STRING of those digits +1 \n",
    "# input = string of numbers, output = that number plus 1 \n",
    "# for example, if input 123, output is 124 \n",
    "\n",
    "# def a function with arg of string num\n",
    "# loop through input\n",
    "# convert to int\n",
    "# add +1 to the integer (creating new value 'y')\n",
    "# convert 'y' to string\n",
    "# add string to new list \n",
    "# return new list \n",
    "\n",
    "def solution(*string): # need to be able to intake multiple args, otherwise it will split each digit into sep string\n",
    "    answer = []\n",
    "    for i in string:\n",
    "        if i.isdigit():\n",
    "            y = int(i)\n",
    "            z = y + 1\n",
    "            answer.append(z)\n",
    "    return answer"
   ]
  },
  {
   "cell_type": "code",
   "execution_count": 82,
   "metadata": {},
   "outputs": [
    {
     "data": {
      "text/plain": [
       "[101]"
      ]
     },
     "execution_count": 82,
     "metadata": {},
     "output_type": "execute_result"
    }
   ],
   "source": [
    "solution('100')"
   ]
  }
 ],
 "metadata": {
  "kernelspec": {
   "display_name": "Python 3 (ipykernel)",
   "language": "python",
   "name": "python3"
  },
  "language_info": {
   "codemirror_mode": {
    "name": "ipython",
    "version": 3
   },
   "file_extension": ".py",
   "mimetype": "text/x-python",
   "name": "python",
   "nbconvert_exporter": "python",
   "pygments_lexer": "ipython3",
   "version": "3.11.5"
  }
 },
 "nbformat": 4,
 "nbformat_minor": 4
}
